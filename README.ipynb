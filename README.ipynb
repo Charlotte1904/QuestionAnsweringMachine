{
 "cells": [
  {
   "cell_type": "markdown",
   "metadata": {
    "slideshow": {
     "slide_type": "slide"
    }
   },
   "source": [
    "                                Deep Learning Final Project\n",
    "                          \n",
    "----\n",
    "\n",
    "# <center> ** QUESTION ANSWERING SYSTEM ** <center>\n",
    "<img src=\"./Images/squad.png\" height=\"500\"/>\n",
    "\n",
    "----\n",
    "The Stanford Question Answering Dataset (SQuAD) is a reading comprehension dataset consisting of questions posed by crowdworkers on a set of Wikipedia articles. The answer to every question is a segment of text, or span, from the corresponding reading passage. There are 100,000+ question-answer pairs on 500+ articles. \n",
    "\n",
    "-- Pranav Rajpurkar & Professor Percy Liang --\n"
   ]
  },
  {
   "cell_type": "markdown",
   "metadata": {},
   "source": [
    "                                \n",
    "----\n",
    "# A SQuAD like question answering example:\n",
    "\n",
    "-----\n",
    "<img src=\"Images/example.png\" height =\"900\"/>\n"
   ]
  },
  {
   "cell_type": "markdown",
   "metadata": {
    "slideshow": {
     "slide_type": "slide"
    }
   },
   "source": [
    "# <center> Model Architecture   <center>\n",
    "-----\n",
    "<center> **Inspired by: ** Minjoon Seol, Aniruddha Kembhavi, Ali Farhadi, Hananneh Hajishirzi\n",
    "\n",
    "<center>   University of Washington, Allen Institute for Artificial Intelligence\n",
    "\n",
    "<img src=\"Images/model.png\" height=\"500\"/>\n",
    "\n",
    "----- \n",
    "\n",
    "\n",
    "\n",
    "\n",
    "\n",
    "<img src=\"Images/model1.png\" height=\"500\"/>\n",
    "\n",
    "\n"
   ]
  },
  {
   "cell_type": "markdown",
   "metadata": {},
   "source": [
    "\n",
    "----\n",
    "<img src=\"Images/layers.png\" height=\"500\"/>\n",
    "\n",
    "----\n",
    "\n",
    "<img src=\"Images/output1.png\" height=\"500\"/>\n",
    "\n"
   ]
  },
  {
   "cell_type": "markdown",
   "metadata": {},
   "source": [
    "\n",
    " #  <center> Predictions <center>\n",
    "----\n",
    "<img src=\"Images/boundarypred.png\" height=\"200\"/>\n"
   ]
  },
  {
   "cell_type": "markdown",
   "metadata": {
    "slideshow": {
     "slide_type": "slide"
    }
   },
   "source": [
    "\n",
    "# <center> WAITING FOR THE NEURAL NETWORK TO TRAIN <center>\n",
    "----\n",
    "<img src=\"https://www.wired.com/wp-content/uploads/images_blogs/design/2013/09/Boglio_05.gif\" height=\"50\"/>\n",
    "---"
   ]
  },
  {
   "cell_type": "markdown",
   "metadata": {},
   "source": [
    "# Results \n",
    "\n",
    "##                  <center> Chau's BiDAF Model (Single)      -- 5Epos --        EM : 50.141 - F1: 60.981 <center >\n",
    "<img src=\"Images/eval.png\" height=\"200\"/>"
   ]
  },
  {
   "cell_type": "markdown",
   "metadata": {
    "collapsed": true
   },
   "source": []
  },
  {
   "cell_type": "markdown",
   "metadata": {},
   "source": [
    "# <center> SUMMER BREAK!!! <center> \n",
    "\n",
    "<img src=\"https://www.wired.com/wp-content/uploads/images_blogs/design/2013/09/tumblr_mkwf1iDSJC1rn9vmdo1_500.gif\" width=\"500\"/>"
   ]
  }
 ],
 "metadata": {
  "anaconda-cloud": {},
  "celltoolbar": "Slideshow",
  "kernelspec": {
   "display_name": "Python [dsci6007]",
   "language": "python",
   "name": "Python [dsci6007]"
  },
  "language_info": {
   "codemirror_mode": {
    "name": "ipython",
    "version": 2
   },
   "file_extension": ".py",
   "mimetype": "text/x-python",
   "name": "python",
   "nbconvert_exporter": "python",
   "pygments_lexer": "ipython2",
   "version": "2.7.13"
  }
 },
 "nbformat": 4,
 "nbformat_minor": 0
}
